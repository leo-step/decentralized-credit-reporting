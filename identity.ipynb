{
 "cells": [
  {
   "cell_type": "markdown",
   "id": "f7c89b7a-6837-4642-b6d8-346de07ee692",
   "metadata": {},
   "source": [
    "## IdentityManagement"
   ]
  },
  {
   "cell_type": "code",
   "execution_count": null,
   "id": "75d83976-6a58-4ecd-a9b1-71bf8c1fd196",
   "metadata": {},
   "outputs": [],
   "source": []
  },
  {
   "cell_type": "markdown",
   "id": "9550803c-919f-4a6c-843f-1ea7d32e3d2b",
   "metadata": {},
   "source": [
    "```javascript\n",
    "contract IdentityManagement {\n",
    "    struct Identity { \n",
    "        address publicKey;\n",
    "        string fingerprint;\n",
    "        address firstPublicRecord;\n",
    "        address firstCreditAccount;\n",
    "        mapping(address => bool) certificates;\n",
    "    }\n",
    "\n",
    "    mapping(address => Identity) public identities; \n",
    "\n",
    "    function register(address publicKey, string memory fingerprint, address firstPublicRecord, address firstCreditAccount) public {\n",
    "        Identity storage newIdentity = identities[msg.sender];\n",
    "        newIdentity.publicKey = publicKey;\n",
    "        newIdentity.fingerprint = fingerprint;\n",
    "        newIdentity.firstPublicRecord = firstPublicRecord;\n",
    "        newIdentity.firstCreditAccount = firstCreditAccount;\n",
    "    }\n",
    "\n",
    "    function certify(address publicKey) public {\n",
    "        require(identities[publicKey].publicKey == publicKey);\n",
    "        identities[publicKey].certificates[msg.sender] = true;\n",
    "    }\n",
    "\n",
    "    function decertify(address publicKey) public {\n",
    "        require(identities[publicKey].publicKey == publicKey);\n",
    "        identities[publicKey].certificates[msg.sender] = false;\n",
    "    }\n",
    "}\n",
    "```"
   ]
  },
  {
   "cell_type": "markdown",
   "id": "fdcb14e4-94bd-4ca1-9aba-08f2c7bf7f83",
   "metadata": {
    "tags": []
   },
   "source": [
    "## Credit Account"
   ]
  },
  {
   "cell_type": "code",
   "execution_count": null,
   "id": "ae221853-d00d-4487-91b7-a280d452a565",
   "metadata": {},
   "outputs": [],
   "source": []
  },
  {
   "cell_type": "markdown",
   "id": "5672f5b6-9216-4dc8-91c4-68a41dfb7041",
   "metadata": {
    "tags": []
   },
   "source": [
    "```javascript\n",
    "contract CreditAccount {\n",
    "    address nextCreditAccount;\n",
    "    address customer;\n",
    "    address instution;\n",
    "    bool customerVerified;\n",
    "    bool instutionVerified;\n",
    "    bool public verified;\n",
    "    bool hasNext;\n",
    "    string public data;\n",
    "\n",
    "    constructor(address _customer, address _instution, string memory _data) {\n",
    "      customer = _customer;\n",
    "      instution = _instution;\n",
    "      data = _data;\n",
    "   }\n",
    "\n",
    "    function addNextAccount(address _nextCreditAccount) public {\n",
    "        require(!hasNext);\n",
    "        nextCreditAccount = _nextCreditAccount;\n",
    "        hasNext = true;\n",
    "    }\n",
    "\n",
    "    function customerVerify() public {\n",
    "        require(customer == msg.sender);\n",
    "        customerVerified = true;\n",
    "        if (instutionVerified) {\n",
    "            verified = true;\n",
    "        }\n",
    "    }\n",
    "\n",
    "    function instutionVerify() public {\n",
    "        require(instution == msg.sender);\n",
    "        instutionVerified = true;\n",
    "        if (customerVerified) {\n",
    "            verified = true;\n",
    "        }\n",
    "    }\n",
    "}\n",
    "```"
   ]
  },
  {
   "cell_type": "markdown",
   "id": "b0ad5e13-a62a-4db5-bef0-dc3cddee9d8d",
   "metadata": {
    "tags": []
   },
   "source": [
    "## Public Record"
   ]
  },
  {
   "cell_type": "code",
   "execution_count": null,
   "id": "95cb1544-83e2-4e44-b59a-b1bcc4519b9f",
   "metadata": {},
   "outputs": [],
   "source": []
  },
  {
   "cell_type": "markdown",
   "id": "037ecab4-698a-4f45-9b69-08b46711cf14",
   "metadata": {},
   "source": [
    "```javascript\n",
    "contract PublicRecord {\n",
    "    address nextPublicRecord;\n",
    "    address customer;\n",
    "    address instution;\n",
    "    bool public verified;\n",
    "    bool hasNext;\n",
    "    string public data;\n",
    "\n",
    "    constructor(address _customer, address _instution, string memory _data) {\n",
    "      customer = _customer;\n",
    "      instution = _instution;\n",
    "      data = _data;\n",
    "   }\n",
    "\n",
    "    function addNextRecord(address _nextPublicRecord) public {\n",
    "        require(!hasNext);\n",
    "        nextPublicRecord = _nextPublicRecord;\n",
    "        hasNext = true;\n",
    "    }\n",
    "\n",
    "    function instutionVerify() public {\n",
    "        require(instution == msg.sender);\n",
    "        verified = true;\n",
    "    }\n",
    "}\n",
    "```"
   ]
  }
 ],
 "metadata": {
  "kernelspec": {
   "display_name": "Python 3 (ipykernel)",
   "language": "python",
   "name": "python3"
  },
  "language_info": {
   "codemirror_mode": {
    "name": "ipython",
    "version": 3
   },
   "file_extension": ".py",
   "mimetype": "text/x-python",
   "name": "python",
   "nbconvert_exporter": "python",
   "pygments_lexer": "ipython3",
   "version": "3.10.11"
  }
 },
 "nbformat": 4,
 "nbformat_minor": 5
}
